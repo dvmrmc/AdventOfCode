{
 "cells": [
  {
   "cell_type": "markdown",
   "metadata": {},
   "source": [
    "# Part 1\n",
    "\n",
    "You're launched high into the atmosphere! The apex of your trajectory just barely reaches the surface of a large island floating in the sky. You gently land in a fluffy pile of leaves. It's quite cold, but you don't see much snow. An Elf runs over to greet you.\n",
    "\n",
    "The Elf explains that you've arrived at Snow Island and apologizes for the lack of snow. He'll be happy to explain the situation, but it's a bit of a walk, so you have some time. They don't get many visitors up here; would you like to play a game in the meantime?\n",
    "\n",
    "As you walk, the Elf shows you a small bag and some cubes which are either red, green, or blue. Each time you play this game, he will hide a secret number of cubes of each color in the bag, and your goal is to figure out information about the number of cubes.\n",
    "\n",
    "To get information, once a bag has been loaded with cubes, the Elf will reach into the bag, grab a handful of random cubes, show them to you, and then put them back in the bag. He'll do this a few times per game.\n",
    "\n",
    "You play several games and record the information from each game (your puzzle input). Each game is listed with its ID number (like the 11 in Game 11: ...) followed by a semicolon-separated list of subsets of cubes that were revealed from the bag (like 3 red, 5 green, 4 blue).\n",
    "\n",
    "For example, the record of a few games might look like this:\n",
    "\n",
    "---\n",
    "```text\n",
    "Game 1: 3 blue, 4 red; 1 red, 2 green, 6 blue; 2 green\n",
    "Game 2: 1 blue, 2 green; 3 green, 4 blue, 1 red; 1 green, 1 blue\n",
    "Game 3: 8 green, 6 blue, 20 red; 5 blue, 4 red, 13 green; 5 green, 1 red\n",
    "Game 4: 1 green, 3 red, 6 blue; 3 green, 6 red; 3 green, 15 blue, 14 red\n",
    "Game 5: 6 red, 1 blue, 3 green; 2 blue, 1 red, 2 green\n",
    "```\n",
    "---\n",
    "\n",
    "In game 1, three sets of cubes are revealed from the bag (and then put back again). The first set is 3 blue cubes and 4 red cubes; the second set is 1 red cube, 2 green cubes, and 6 blue cubes; the third set is only 2 green cubes.\n",
    "\n",
    "The Elf would first like to know which games would have been possible if the bag contained only 12 red cubes, 13 green cubes, and 14 blue cubes?\n",
    "\n",
    "In the example above, games 1, 2, and 5 would have been possible if the bag had been loaded with that configuration. However, game 3 would have been impossible because at one point the Elf showed you 20 red cubes at once; similarly, game 4 would also have been impossible because the Elf showed you 15 blue cubes at once. If you add up the IDs of the games that would have been possible, you get 8.\n",
    "\n",
    "Determine which games would have been possible if the bag had been loaded with only 12 red cubes, 13 green cubes, and 14 blue cubes. What is the sum of the IDs of those games?\n",
    "\n"
   ]
  },
  {
   "cell_type": "code",
   "execution_count": 21,
   "metadata": {},
   "outputs": [
    {
     "name": "stdout",
     "output_type": "stream",
     "text": [
      "Entry data contains 100 items\n"
     ]
    }
   ],
   "source": [
    "source_file = \"input.txt\"\n",
    "with open(source_file) as f:\n",
    "    part_1_data = f.readlines()\n",
    "    \n",
    "part_1_data = [line.strip() for line in part_1_data]\n",
    "\n",
    "print(f\"Entry data contains {len(part_1_data)} items\")"
   ]
  },
  {
   "cell_type": "code",
   "execution_count": 22,
   "metadata": {},
   "outputs": [
    {
     "name": "stdout",
     "output_type": "stream",
     "text": [
      "Possible games:\n",
      "Game 4\n",
      "Game 5\n",
      "Game 6\n",
      "Game 7\n",
      "Game 11\n",
      "Game 12\n",
      "Game 13\n",
      "Game 14\n",
      "Game 17\n",
      "Game 20\n",
      "Game 21\n",
      "Game 22\n",
      "Game 23\n",
      "Game 28\n",
      "Game 29\n",
      "Game 30\n",
      "Game 31\n",
      "Game 34\n",
      "Game 35\n",
      "Game 36\n",
      "Game 38\n",
      "Game 39\n",
      "Game 40\n",
      "Game 41\n",
      "Game 43\n",
      "Game 44\n",
      "Game 47\n",
      "Game 51\n",
      "Game 53\n",
      "Game 55\n",
      "Game 56\n",
      "Game 57\n",
      "Game 58\n",
      "Game 59\n",
      "Game 60\n",
      "Game 61\n",
      "Game 63\n",
      "Game 64\n",
      "Game 65\n",
      "Game 66\n",
      "Game 68\n",
      "Game 70\n",
      "Game 74\n",
      "Game 76\n",
      "Game 77\n",
      "Game 78\n",
      "Game 80\n",
      "Game 82\n",
      "Game 87\n",
      "Game 88\n",
      "Game 95\n",
      "Game 97\n",
      "Game 98\n",
      "Game 99\n",
      "Game 100\n",
      "Sum of IDs: 2727\n"
     ]
    }
   ],
   "source": [
    "id_sum = 0\n",
    "\n",
    "print(\"Possible games:\")\n",
    "for line in part_1_data:\n",
    "    ok = True\n",
    "    game_id, events = line.split(\":\")\n",
    "    for event in events.split(\";\"):\n",
    "        for balls in event.split(\",\"):\n",
    "            amount, color = balls.split()\n",
    "            if int(amount) > {'red': 12, 'green': 13, 'blue': 14}.get(color, 0):\n",
    "                ok = False\n",
    "    if ok:\n",
    "        id_sum += int(game_id.split()[1])\n",
    "        print(game_id)\n",
    "print(f\"Sum of IDs: {id_sum}\")"
   ]
  },
  {
   "cell_type": "markdown",
   "metadata": {},
   "source": [
    "## Part 2\n",
    "\n",
    "The Elf says they've stopped producing snow because they aren't getting any water! He isn't sure why the water stopped; however, he can show you how to get to the water source to check it out for yourself. It's just up ahead!\n",
    "\n",
    "As you continue your walk, the Elf poses a second question: in each game you played, what is the fewest number of cubes of each color that could have been in the bag to make the game possible?\n",
    "\n",
    "Again consider the example games from earlier:\n",
    "\n",
    "---\n",
    "```text\n",
    "Game 1: 3 blue, 4 red; 1 red, 2 green, 6 blue; 2 green\n",
    "Game 2: 1 blue, 2 green; 3 green, 4 blue, 1 red; 1 green, 1 blue\n",
    "Game 3: 8 green, 6 blue, 20 red; 5 blue, 4 red, 13 green; 5 green, 1 red\n",
    "Game 4: 1 green, 3 red, 6 blue; 3 green, 6 red; 3 green, 15 blue, 14 red\n",
    "Game 5: 6 red, 1 blue, 3 green; 2 blue, 1 red, 2 green\n",
    "```\n",
    "---\n",
    "\n",
    "\n",
    "- In game 1, the game could have been played with as few as 4 red, 2 green, and 6 blue cubes. If any color had even one fewer cube, the game would have been impossible.\n",
    "- Game 2 could have been played with a minimum of 1 red, 3 green, and 4 blue cubes.\n",
    "- Game 3 must have been played with at least 20 red, 13 green, and 6 blue cubes.\n",
    "- Game 4 required at least 14 red, 3 green, and 15 blue cubes.\n",
    "- Game 5 needed no fewer than 6 red, 3 green, and 2 blue cubes in the bag.\n",
    "\n",
    "The power of a set of cubes is equal to the numbers of red, green, and blue cubes multiplied together. The power of the minimum set of cubes in game 1 is 48. In games 2-5 it was 12, 1560, 630, and 36, respectively. Adding up these five powers produces the sum 2286.\n",
    "\n",
    "For each game, find the minimum set of cubes that must have been present. What is the sum of the power of these sets?"
   ]
  },
  {
   "cell_type": "code",
   "execution_count": null,
   "metadata": {},
   "outputs": [
    {
     "name": "stdout",
     "output_type": "stream",
     "text": [
      "Entry data contains 5 items\n"
     ]
    }
   ],
   "source": [
    "source_file = \"input_2.txt\"\n",
    "with open(source_file) as f:\n",
    "    part_2_data = f.readlines()\n",
    "    \n",
    "part_2_data = [line.strip() for line in part_2_data]\n",
    "\n",
    "print(f\"Entry data contains {len(part_2_data)} items\")"
   ]
  },
  {
   "cell_type": "code",
   "execution_count": 29,
   "metadata": {},
   "outputs": [
    {
     "name": "stdout",
     "output_type": "stream",
     "text": [
      "Possible games:\n",
      "Game 1: Min sets {'red': 4, 'blue': 6, 'green': 2}\n",
      "Game 2: Min sets {'red': 1, 'blue': 4, 'green': 3}\n",
      "Game 3: Min sets {'red': 20, 'blue': 6, 'green': 13}\n",
      "Game 4: Min sets {'red': 14, 'blue': 15, 'green': 3}\n",
      "Game 5: Min sets {'red': 6, 'blue': 2, 'green': 3}\n",
      "Sum of powers: 2286\n"
     ]
    }
   ],
   "source": [
    "result = 0\n",
    "\n",
    "print(\"Possible games:\")\n",
    "for line in part_2_data:\n",
    "    game = {'red': 0, 'blue': 0, 'green': 0}\n",
    "    game_id, events = line.split(\":\")\n",
    "    for event in events.split(\";\"):\n",
    "        for balls in event.split(\",\"):\n",
    "            n, color = balls.split()\n",
    "            amount= int(n)\n",
    "            if amount > game.get(color):\n",
    "                game[color] = amount\n",
    "    game_power = 1\n",
    "    for key, value in game.items():\n",
    "        game_power *= value\n",
    "    result += game_power\n",
    "    print(f\"{game_id}: Min sets {game}\")\n",
    "        \n",
    "print(f\"Sum of powers: {result}\")"
   ]
  }
 ],
 "metadata": {
  "kernelspec": {
   "display_name": "3.11.0",
   "language": "python",
   "name": "python3"
  },
  "language_info": {
   "codemirror_mode": {
    "name": "ipython",
    "version": 3
   },
   "file_extension": ".py",
   "mimetype": "text/x-python",
   "name": "python",
   "nbconvert_exporter": "python",
   "pygments_lexer": "ipython3",
   "version": "3.11.0"
  }
 },
 "nbformat": 4,
 "nbformat_minor": 2
}
