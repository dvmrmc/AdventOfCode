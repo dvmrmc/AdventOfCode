{
 "cells": [
  {
   "cell_type": "markdown",
   "id": "fb0bed42",
   "metadata": {},
   "source": [
    "# Advent Of Code 2024 - Day 1\n",
    "# Part 1\n",
    "\n",
    "Something is wrong with global snow production, and you've been selected to take a look. The Elves have even given you a map; on it, they've used stars to mark the top fifty locations that are likely to be having problems.\n",
    "\n",
    "You've been doing this long enough to know that to restore snow operations, you need to check all fifty stars by December 25th.\n",
    "\n",
    "Collect stars by solving puzzles. Two puzzles will be made available on each day in the Advent calendar; the second puzzle is unlocked when you complete the first. Each puzzle grants one star. Good luck!\n",
    "\n",
    "You try to ask why they can't just use a weather machine (\"not powerful enough\") and where they're even sending you (\"the sky\") and why your map looks mostly blank (\"you sure ask a lot of questions\") and hang on did you just say the sky (\"of course, where do you think snow comes from\") when you realize that the Elves are already loading you into a trebuchet (\"please hold still, we need to strap you in\").\n",
    "\n",
    "As they're making the final adjustments, they discover that their calibration document (your puzzle input) has been amended by a very young Elf who was apparently just excited to show off her art skills. Consequently, the Elves are having trouble reading the values on the document.\n",
    "\n",
    "The newly-improved calibration document consists of lines of text; each line originally contained a specific calibration value that the Elves now need to recover. On each line, the calibration value can be found by combining the first digit and the last digit (in that order) to form a single two-digit number.\n",
    "\n",
    "For example:\n",
    "\n",
    "1abc2\n",
    "pqr3stu8vwx\n",
    "a1b2c3d4e5f\n",
    "treb7uchet\n",
    "In this example, the calibration values of these four lines are 12, 38, 15, and 77. Adding these together produces 142.\n",
    "\n",
    "Firstly, we want to make sure that the data is read, cleaned and loaded"
   ]
  },
  {
   "cell_type": "code",
   "execution_count": 10,
   "id": "87ac3337",
   "metadata": {},
   "outputs": [
    {
     "name": "stdout",
     "output_type": "stream",
     "text": [
      "Entry data contains 1000 items\n"
     ]
    }
   ],
   "source": [
    "source_file = \"input_1.txt\"\n",
    "with open(source_file) as f:\n",
    "    part_1_data = f.readlines()\n",
    "    \n",
    "part_1_data = [line.strip() for line in part_1_data]\n",
    "print(f\"Entry data contains {len(part_1_data)} items\")"
   ]
  },
  {
   "cell_type": "markdown",
   "id": "a6f1cdf3",
   "metadata": {},
   "source": [
    "Then, we want ot make sure that the duples are properly configured"
   ]
  },
  {
   "cell_type": "code",
   "execution_count": null,
   "id": "9f2f999f",
   "metadata": {},
   "outputs": [
    {
     "data": {
      "text/plain": [
       "56465"
      ]
     },
     "execution_count": 7,
     "metadata": {},
     "output_type": "execute_result"
    }
   ],
   "source": [
    "result = 0\n",
    "for line in part_1_data:\n",
    "    line_data = [None, None]\n",
    "    for character in line:\n",
    "        if character.isdigit():\n",
    "            line_data[0 if line_data[0] is None else 1] = int(character)\n",
    "    if line_data[1] is None:\n",
    "        line_data[1] = line_data[0]\n",
    "\n",
    "    if line_data[0] != None and line_data[1] != None:\n",
    "        result += line_data[0] * 10 + line_data[1]\n",
    "    \n",
    "result"
   ]
  },
  {
   "cell_type": "markdown",
   "id": "5db2a0f5",
   "metadata": {},
   "source": [
    "## Part 2\n",
    "\n",
    "Your calculation isn't quite right. It looks like some of the digits are actually spelled out with letters: one, two, three, four, five, six, seven, eight, and nine also count as valid \"digits\".\n",
    "\n",
    "Equipped with this new information, you now need to find the real first and last digit on each line. For example:\n",
    "\n",
    "two1nine\n",
    "eightwothree\n",
    "abcone2threexyz\n",
    "xtwone3four\n",
    "4nineeightseven2\n",
    "zoneight234\n",
    "7pqrstsixteen\n",
    "In this example, the calibration values are 29, 83, 13, 24, 42, 14, and 76. Adding these together produces 281."
   ]
  },
  {
   "cell_type": "code",
   "execution_count": 11,
   "id": "ffe858ae",
   "metadata": {},
   "outputs": [
    {
     "name": "stdout",
     "output_type": "stream",
     "text": [
      "Entry data contains 1000 items\n"
     ]
    }
   ],
   "source": [
    "source_file = \"input_2.txt\"\n",
    "with open(source_file) as f:\n",
    "    part_2_data = f.readlines()\n",
    "    \n",
    "part_2_data = [line.strip() for line in part_2_data]\n",
    "print(f\"Entry data contains {len(part_2_data)} items\")"
   ]
  },
  {
   "cell_type": "code",
   "execution_count": null,
   "id": "420ce344",
   "metadata": {},
   "outputs": [
    {
     "name": "stdout",
     "output_type": "stream",
     "text": [
      "55902\n"
     ]
    }
   ],
   "source": [
    "digit_names = [\"zero\", \"one\", \"two\", \"three\", \"four\", \"five\", \"six\", \"seven\", \"eight\", \"nine\"]\n",
    "\n",
    "def transform_line(str) -> str:\n",
    "    for num, name in enumerate(digit_names):\n",
    "        str = str.replace(name, f\"{name}{num}{name}\")\n",
    "    return str\n",
    "\n",
    "result = 0\n",
    "for line in part_1_data:\n",
    "    first = True\n",
    "    lineData = [None, None]\n",
    "    transformed_line = transform_line(line)\n",
    "    \n",
    "    for character in transformed_line:\n",
    "        if character.isdigit():  # Check if character is a digit\n",
    "            if(first):\n",
    "                lineData[0] = character\n",
    "                first = False\n",
    "            else:\n",
    "                lineData[1] = character    \n",
    "    if lineData[1] == None:\n",
    "        lineData[1] = lineData[0]\n",
    "    if lineData[0] != None and lineData[1] != None :\n",
    "        result += (int(lineData[0]) * 10) + int(lineData[1])\n",
    "\n",
    "print(result)\n",
    "    "
   ]
  }
 ],
 "metadata": {
  "kernelspec": {
   "display_name": "3.11.0",
   "language": "python",
   "name": "python3"
  },
  "language_info": {
   "codemirror_mode": {
    "name": "ipython",
    "version": 3
   },
   "file_extension": ".py",
   "mimetype": "text/x-python",
   "name": "python",
   "nbconvert_exporter": "python",
   "pygments_lexer": "ipython3",
   "version": "3.11.0"
  }
 },
 "nbformat": 4,
 "nbformat_minor": 5
}
