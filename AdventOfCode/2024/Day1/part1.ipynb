{
 "cells": [
  {
   "cell_type": "markdown",
   "metadata": {},
   "source": [
    "First, we need to treat the input data to generate two ordered lists that we can compare against\n",
    "\n",
    "1. Go through and split by 3 spaces on each line, each number will go to one list\n",
    "2. Order list 1 and list 2\n",
    "3. Compute distances between list 1 and 2"
   ]
  },
  {
   "cell_type": "code",
   "execution_count": 14,
   "metadata": {},
   "outputs": [],
   "source": [
    "source_file = \"input1.txt\"\n",
    "list_1 = []\n",
    "list_2 = []\n",
    "with open(source_file) as f:\n",
    "    part_1_data = f.readlines()\n",
    "    \n",
    "for line in part_1_data:\n",
    "    split_line = [line.strip().split(\"   \")]\n",
    "    list_1.append(split_line[0][0])\n",
    "    list_2.append(split_line[0][1])"
   ]
  },
  {
   "cell_type": "code",
   "execution_count": 15,
   "metadata": {},
   "outputs": [
    {
     "name": "stdout",
     "output_type": "stream",
     "text": [
      "Distance: 1603498\n"
     ]
    }
   ],
   "source": [
    "# Lets order the lists\n",
    "list_1.sort()\n",
    "list_2.sort()\n",
    "\n",
    "# And calculate the distance by comparing the lists\n",
    "distance = 0\n",
    "for i in range(len(list_1)):\n",
    "    distance += abs(int(list_1[i]) - int(list_2[i]))\n",
    "\n",
    "print(f\"Distance: {distance}\")"
   ]
  }
 ],
 "metadata": {
  "kernelspec": {
   "display_name": "3.10.4",
   "language": "python",
   "name": "python3"
  },
  "language_info": {
   "codemirror_mode": {
    "name": "ipython",
    "version": 3
   },
   "file_extension": ".py",
   "mimetype": "text/x-python",
   "name": "python",
   "nbconvert_exporter": "python",
   "pygments_lexer": "ipython3",
   "version": "3.10.4"
  }
 },
 "nbformat": 4,
 "nbformat_minor": 2
}
