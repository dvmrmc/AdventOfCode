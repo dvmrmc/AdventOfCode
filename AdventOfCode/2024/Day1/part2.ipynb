{
 "cells": [
  {
   "cell_type": "markdown",
   "metadata": {},
   "source": [
    "First, we need to treat the input data to generate two ordered lists that we can compare against\n",
    "\n",
    "1. Go through and split by 3 spaces on each line, each number will go to one list\n",
    "2. Order list 1 and list 2\n",
    "3. Compute distances between list 1 and 2"
   ]
  },
  {
   "cell_type": "code",
   "execution_count": 15,
   "metadata": {},
   "outputs": [],
   "source": [
    "source_file = \"input2.txt\"\n",
    "list_1 = []\n",
    "list_2 = []\n",
    "with open(source_file) as f:\n",
    "    part_1_data = f.readlines()\n",
    "    \n",
    "for line in part_1_data:\n",
    "    split_line = [line.strip().split(\"   \")]\n",
    "    list_1.append(split_line[0][0])\n",
    "    list_2.append(split_line[0][1])"
   ]
  },
  {
   "cell_type": "code",
   "execution_count": null,
   "metadata": {},
   "outputs": [
    {
     "name": "stdout",
     "output_type": "stream",
     "text": [
      "Similarity index is 25574739\n"
     ]
    }
   ],
   "source": [
    "# For each element in list1, increase the similarity index\n",
    "# by the result of multiplying the element on list 1 and \n",
    "# # counting  times it is found in list 2\n",
    "\n",
    "similarity_index = 0\n",
    "for element in list_1:\n",
    "    similarity_index += list_2.count(element) * int(element)\n",
    "print(f\"Similarity index is {similarity_index}\")"
   ]
  }
 ],
 "metadata": {
  "kernelspec": {
   "display_name": "3.10.4",
   "language": "python",
   "name": "python3"
  },
  "language_info": {
   "codemirror_mode": {
    "name": "ipython",
    "version": 3
   },
   "file_extension": ".py",
   "mimetype": "text/x-python",
   "name": "python",
   "nbconvert_exporter": "python",
   "pygments_lexer": "ipython3",
   "version": "3.10.4"
  }
 },
 "nbformat": 4,
 "nbformat_minor": 2
}
