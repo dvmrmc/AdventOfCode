{
 "cells": [
  {
   "cell_type": "code",
   "execution_count": 162,
   "metadata": {},
   "outputs": [
    {
     "name": "stdout",
     "output_type": "stream",
     "text": [
      "271\n"
     ]
    }
   ],
   "source": [
    "ans = 0\n",
    "\n",
    "with open(\"input2.txt\") as fin:\n",
    "    lines = fin.read().strip().split(\"\\n\")\n",
    "\n",
    "def is_safe(nums):\n",
    "    inc = nums[1] > nums[0]\n",
    "    if inc:\n",
    "        for i in range(1, len(nums)):\n",
    "            diff = nums[i] - nums[i-1]\n",
    "            if not 1 <= diff <= 3:\n",
    "                return False\n",
    "        return True\n",
    "    else:\n",
    "        for i in range(1, len(nums)):\n",
    "            diff = nums[i] - nums[i-1]\n",
    "            if not -3 <= diff <= -1:\n",
    "                return False\n",
    "        return True\n",
    "    \n",
    "def is_really_safe(nums):\n",
    "    if is_safe(nums):\n",
    "        return True\n",
    "    for i in range(len(nums)):\n",
    "        if is_safe(nums[:i] + nums[i+1:]):\n",
    "            return True\n",
    "    return False\n",
    "\n",
    "for line in lines:\n",
    "    nums = [int(i) for i in line.split()]\n",
    "    ans += is_really_safe(nums)\n",
    "\n",
    "print(ans)"
   ]
  }
 ],
 "metadata": {
  "kernelspec": {
   "display_name": "3.10.4",
   "language": "python",
   "name": "python3"
  },
  "language_info": {
   "codemirror_mode": {
    "name": "ipython",
    "version": 3
   },
   "file_extension": ".py",
   "mimetype": "text/x-python",
   "name": "python",
   "nbconvert_exporter": "python",
   "pygments_lexer": "ipython3",
   "version": "3.10.4"
  }
 },
 "nbformat": 4,
 "nbformat_minor": 2
}
